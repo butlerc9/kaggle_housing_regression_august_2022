{
 "cells": [
  {
   "cell_type": "markdown",
   "id": "8e1fdc38-826e-4dde-93fd-a56526f7c7d2",
   "metadata": {},
   "source": [
    "# Exploratory Data Analysis Notebook"
   ]
  },
  {
   "cell_type": "markdown",
   "id": "3012a012-49fc-4f4d-8f84-6385932a71a7",
   "metadata": {},
   "source": [
    "### Description\n",
    "\n",
    "The August 2022 edition of the Tabular Playground Series is an opportunity to help the fictional company Keep It Dry improve its main product Super Soaker. The product is used in factories to absorb spills and leaks.\n",
    "\n",
    "The company has just completed a large testing study for different product prototypes. Can you use this data to build a model that predicts product failures?\n",
    "\n",
    "This data represents the results of a large product testing study. For each product_code you are given a number of product attributes (fixed for the code) as well as a number of measurement values for each individual product, representing various lab testing methods. Each product is used in a simulated real-world environment experiment, and and absorbs a certain amount of fluid (loading) to see whether or not it fails.\n",
    "\n",
    "Your task is to use the data to predict individual product failures of new codes with their individual lab test results.\n",
    "\n",
    "### Files\n",
    "1. train.csv - the training data, which includes the target failure\n",
    "2. test.csv - the test set; your task is to predict the likelihood each id will experience a failure\n",
    "3. sample_submission.csv - a sample submission file in the correct format\n",
    "\n",
    "### Evaluation\n",
    "\n",
    "Submissions are evaluated on area under the ROC curve between the predicted probability and the observed target.\n",
    "\n",
    "Submission File\n",
    "For each id in the test set, you must predict a probability a failure. The file should contain a header and have the following format:\n",
    "\n",
    "- id,failure\n",
    "- 26570,0.2\n",
    "- 26571,0.1\n",
    "- 26572,0.9\n",
    "- etc.\n",
    "\n",
    "### Important Points\n",
    "- Different prototypes tested for product failures\n",
    "- Given product attributes and measurement values, so only 2 types of attributes\n",
    "- The simulated test uses loading\n",
    "- You must predict individual product failures of new new codes with their lab test results"
   ]
  },
  {
   "cell_type": "markdown",
   "id": "2637b1fe-fb62-4fa5-86ce-2d807ee19921",
   "metadata": {},
   "source": [
    "## Package Importing"
   ]
  },
  {
   "cell_type": "code",
   "execution_count": 1,
   "id": "75e347cd-e2f8-4270-9b14-041e4028aab7",
   "metadata": {},
   "outputs": [],
   "source": [
    "# general python libraries\n",
    "import time\n",
    "import sys\n",
    "import datetime\n",
    "import math\n",
    "import numpy as np\n",
    "\n",
    "# dataframe and data manipulation library\n",
    "import pandas as pd\n",
    "\n",
    "# visualisation and EDA libraries\n",
    "import matplotlib.pyplot as  plt\n",
    "import pandas_profiling\n",
    "import seaborn as sns\n",
    "import popmon\n",
    "from popmon import resources\n",
    "from popmon.config import Report, Settings\n",
    "\n",
    "# machine learning libraries\n",
    "import sklearn\n",
    "from sklearn.model_selection import train_test_split\n",
    "from sklearn.model_selection import KFold\n",
    "from sklearn import metrics"
   ]
  },
  {
   "cell_type": "markdown",
   "id": "c4b13bab-9a46-4bb1-85d9-96fb9772c522",
   "metadata": {},
   "source": [
    "## Data Importing"
   ]
  },
  {
   "cell_type": "code",
   "execution_count": 2,
   "id": "a851cfe7-1f76-472a-9d3a-1d46b8daec9b",
   "metadata": {},
   "outputs": [],
   "source": [
    "folder_path = '../data/raw'\n",
    "train_data = pd.read_csv(f'{folder_path}/train.csv')\n",
    "test_data = pd.read_csv(f'{folder_path}/test.csv')\n",
    "sample = pd.read_csv(f'{folder_path}/sample_submission.csv')"
   ]
  },
  {
   "cell_type": "markdown",
   "id": "0bc979d8-e1e6-4100-a583-7629d84e7b3b",
   "metadata": {
    "tags": []
   },
   "source": [
    "## Dataset Summaries and Heads"
   ]
  },
  {
   "cell_type": "code",
   "execution_count": 3,
   "id": "6402df72-9b00-4333-8f0b-a40f159af9e6",
   "metadata": {},
   "outputs": [
    {
     "name": "stdout",
     "output_type": "stream",
     "text": [
      "Number of rows in train data:    \t 26570\n",
      "Number of columns in train data: \t 26\n",
      "\n",
      "Number of rows in test data:     \t 20775\n",
      "Number of columns in test data:  \t 25\n",
      "\n",
      "Number of rows in sample data:   \t 20775\n",
      "Number of column in sample data: \t 2\n"
     ]
    }
   ],
   "source": [
    "print(\"Number of rows in train data:    \\t\",train_data.shape[0])\n",
    "print(\"Number of columns in train data: \\t\",train_data.shape[1])\n",
    "print(\"\\nNumber of rows in test data:     \\t\",test_data.shape[0])\n",
    "print(\"Number of columns in test data:  \\t\",test_data.shape[1])\n",
    "print(\"\\nNumber of rows in sample data:   \\t\",sample.shape[0])\n",
    "print(\"Number of column in sample data: \\t\",sample.shape[1])"
   ]
  },
  {
   "cell_type": "code",
   "execution_count": 4,
   "id": "1c072643-bcda-41c7-a2d5-91f632f46018",
   "metadata": {},
   "outputs": [
    {
     "name": "stdout",
     "output_type": "stream",
     "text": [
      "float64    16\n",
      "int64       7\n",
      "object      3\n",
      "dtype: int64\n"
     ]
    }
   ],
   "source": [
    "# check datatypes of columns\n",
    "print(train_data.dtypes.value_counts())"
   ]
  },
  {
   "cell_type": "code",
   "execution_count": 5,
   "id": "8b082bcb-5dcd-4ee8-b35a-44dd40cdbb0b",
   "metadata": {},
   "outputs": [
    {
     "name": "stdout",
     "output_type": "stream",
     "text": [
      "non-numeric column categories from 26570 rows\n",
      "\t product_code \t 5\n",
      "\t attribute_0 \t 2\n",
      "\t attribute_1 \t 3\n"
     ]
    }
   ],
   "source": [
    "# save names of categorical columns\n",
    "numeric_cols = train_data.dtypes[train_data.dtypes != \"object\"].index\n",
    "cat_cols = train_data.dtypes[train_data.dtypes == \"object\"].index\n",
    "\n",
    "# view cardinalitites of categorical columns\n",
    "print('non-numeric column categories from', train_data.shape[0],'rows')\n",
    "for i in cat_cols:\n",
    "    print('\\t',i,'\\t',train_data.loc[:,i].nunique())"
   ]
  },
  {
   "cell_type": "code",
   "execution_count": 6,
   "id": "e68b57a3-7d3d-4415-bf8e-967582d8d4f1",
   "metadata": {},
   "outputs": [
    {
     "data": {
      "text/html": [
       "<div>\n",
       "<style scoped>\n",
       "    .dataframe tbody tr th:only-of-type {\n",
       "        vertical-align: middle;\n",
       "    }\n",
       "\n",
       "    .dataframe tbody tr th {\n",
       "        vertical-align: top;\n",
       "    }\n",
       "\n",
       "    .dataframe thead th {\n",
       "        text-align: right;\n",
       "    }\n",
       "</style>\n",
       "<table border=\"1\" class=\"dataframe\">\n",
       "  <thead>\n",
       "    <tr style=\"text-align: right;\">\n",
       "      <th></th>\n",
       "      <th>id</th>\n",
       "      <th>product_code</th>\n",
       "      <th>loading</th>\n",
       "      <th>attribute_0</th>\n",
       "      <th>attribute_1</th>\n",
       "      <th>attribute_2</th>\n",
       "      <th>attribute_3</th>\n",
       "      <th>measurement_0</th>\n",
       "      <th>measurement_1</th>\n",
       "      <th>measurement_2</th>\n",
       "      <th>...</th>\n",
       "      <th>measurement_9</th>\n",
       "      <th>measurement_10</th>\n",
       "      <th>measurement_11</th>\n",
       "      <th>measurement_12</th>\n",
       "      <th>measurement_13</th>\n",
       "      <th>measurement_14</th>\n",
       "      <th>measurement_15</th>\n",
       "      <th>measurement_16</th>\n",
       "      <th>measurement_17</th>\n",
       "      <th>failure</th>\n",
       "    </tr>\n",
       "  </thead>\n",
       "  <tbody>\n",
       "    <tr>\n",
       "      <th>0</th>\n",
       "      <td>0</td>\n",
       "      <td>A</td>\n",
       "      <td>80.10</td>\n",
       "      <td>material_7</td>\n",
       "      <td>material_8</td>\n",
       "      <td>9</td>\n",
       "      <td>5</td>\n",
       "      <td>7</td>\n",
       "      <td>8</td>\n",
       "      <td>4</td>\n",
       "      <td>...</td>\n",
       "      <td>10.672</td>\n",
       "      <td>15.859</td>\n",
       "      <td>17.594</td>\n",
       "      <td>15.193</td>\n",
       "      <td>15.029</td>\n",
       "      <td>NaN</td>\n",
       "      <td>13.034</td>\n",
       "      <td>14.684</td>\n",
       "      <td>764.100</td>\n",
       "      <td>0</td>\n",
       "    </tr>\n",
       "    <tr>\n",
       "      <th>1</th>\n",
       "      <td>1</td>\n",
       "      <td>A</td>\n",
       "      <td>84.89</td>\n",
       "      <td>material_7</td>\n",
       "      <td>material_8</td>\n",
       "      <td>9</td>\n",
       "      <td>5</td>\n",
       "      <td>14</td>\n",
       "      <td>3</td>\n",
       "      <td>3</td>\n",
       "      <td>...</td>\n",
       "      <td>12.448</td>\n",
       "      <td>17.947</td>\n",
       "      <td>17.915</td>\n",
       "      <td>11.755</td>\n",
       "      <td>14.732</td>\n",
       "      <td>15.425</td>\n",
       "      <td>14.395</td>\n",
       "      <td>15.631</td>\n",
       "      <td>682.057</td>\n",
       "      <td>0</td>\n",
       "    </tr>\n",
       "    <tr>\n",
       "      <th>2</th>\n",
       "      <td>2</td>\n",
       "      <td>A</td>\n",
       "      <td>82.43</td>\n",
       "      <td>material_7</td>\n",
       "      <td>material_8</td>\n",
       "      <td>9</td>\n",
       "      <td>5</td>\n",
       "      <td>12</td>\n",
       "      <td>1</td>\n",
       "      <td>5</td>\n",
       "      <td>...</td>\n",
       "      <td>12.715</td>\n",
       "      <td>15.607</td>\n",
       "      <td>NaN</td>\n",
       "      <td>13.798</td>\n",
       "      <td>16.711</td>\n",
       "      <td>18.631</td>\n",
       "      <td>14.094</td>\n",
       "      <td>17.946</td>\n",
       "      <td>663.376</td>\n",
       "      <td>0</td>\n",
       "    </tr>\n",
       "    <tr>\n",
       "      <th>3</th>\n",
       "      <td>3</td>\n",
       "      <td>A</td>\n",
       "      <td>101.07</td>\n",
       "      <td>material_7</td>\n",
       "      <td>material_8</td>\n",
       "      <td>9</td>\n",
       "      <td>5</td>\n",
       "      <td>13</td>\n",
       "      <td>2</td>\n",
       "      <td>6</td>\n",
       "      <td>...</td>\n",
       "      <td>12.471</td>\n",
       "      <td>16.346</td>\n",
       "      <td>18.377</td>\n",
       "      <td>10.020</td>\n",
       "      <td>15.250</td>\n",
       "      <td>15.562</td>\n",
       "      <td>16.154</td>\n",
       "      <td>17.172</td>\n",
       "      <td>826.282</td>\n",
       "      <td>0</td>\n",
       "    </tr>\n",
       "    <tr>\n",
       "      <th>4</th>\n",
       "      <td>4</td>\n",
       "      <td>A</td>\n",
       "      <td>188.06</td>\n",
       "      <td>material_7</td>\n",
       "      <td>material_8</td>\n",
       "      <td>9</td>\n",
       "      <td>5</td>\n",
       "      <td>9</td>\n",
       "      <td>2</td>\n",
       "      <td>8</td>\n",
       "      <td>...</td>\n",
       "      <td>10.337</td>\n",
       "      <td>17.082</td>\n",
       "      <td>19.932</td>\n",
       "      <td>12.428</td>\n",
       "      <td>16.182</td>\n",
       "      <td>12.760</td>\n",
       "      <td>13.153</td>\n",
       "      <td>16.412</td>\n",
       "      <td>579.885</td>\n",
       "      <td>0</td>\n",
       "    </tr>\n",
       "  </tbody>\n",
       "</table>\n",
       "<p>5 rows × 26 columns</p>\n",
       "</div>"
      ],
      "text/plain": [
       "   id product_code  loading attribute_0 attribute_1  attribute_2  attribute_3  \\\n",
       "0   0            A    80.10  material_7  material_8            9            5   \n",
       "1   1            A    84.89  material_7  material_8            9            5   \n",
       "2   2            A    82.43  material_7  material_8            9            5   \n",
       "3   3            A   101.07  material_7  material_8            9            5   \n",
       "4   4            A   188.06  material_7  material_8            9            5   \n",
       "\n",
       "   measurement_0  measurement_1  measurement_2  ...  measurement_9  \\\n",
       "0              7              8              4  ...         10.672   \n",
       "1             14              3              3  ...         12.448   \n",
       "2             12              1              5  ...         12.715   \n",
       "3             13              2              6  ...         12.471   \n",
       "4              9              2              8  ...         10.337   \n",
       "\n",
       "   measurement_10  measurement_11  measurement_12  measurement_13  \\\n",
       "0          15.859          17.594          15.193          15.029   \n",
       "1          17.947          17.915          11.755          14.732   \n",
       "2          15.607             NaN          13.798          16.711   \n",
       "3          16.346          18.377          10.020          15.250   \n",
       "4          17.082          19.932          12.428          16.182   \n",
       "\n",
       "   measurement_14  measurement_15  measurement_16  measurement_17  failure  \n",
       "0             NaN          13.034          14.684         764.100        0  \n",
       "1          15.425          14.395          15.631         682.057        0  \n",
       "2          18.631          14.094          17.946         663.376        0  \n",
       "3          15.562          16.154          17.172         826.282        0  \n",
       "4          12.760          13.153          16.412         579.885        0  \n",
       "\n",
       "[5 rows x 26 columns]"
      ]
     },
     "execution_count": 6,
     "metadata": {},
     "output_type": "execute_result"
    }
   ],
   "source": [
    "train_data.head()"
   ]
  },
  {
   "cell_type": "code",
   "execution_count": 7,
   "id": "a3db523c-372d-4635-b13d-3a2b312c9aaf",
   "metadata": {},
   "outputs": [
    {
     "data": {
      "text/html": [
       "<div>\n",
       "<style scoped>\n",
       "    .dataframe tbody tr th:only-of-type {\n",
       "        vertical-align: middle;\n",
       "    }\n",
       "\n",
       "    .dataframe tbody tr th {\n",
       "        vertical-align: top;\n",
       "    }\n",
       "\n",
       "    .dataframe thead th {\n",
       "        text-align: right;\n",
       "    }\n",
       "</style>\n",
       "<table border=\"1\" class=\"dataframe\">\n",
       "  <thead>\n",
       "    <tr style=\"text-align: right;\">\n",
       "      <th></th>\n",
       "      <th>id</th>\n",
       "      <th>product_code</th>\n",
       "      <th>loading</th>\n",
       "      <th>attribute_0</th>\n",
       "      <th>attribute_1</th>\n",
       "      <th>attribute_2</th>\n",
       "      <th>attribute_3</th>\n",
       "      <th>measurement_0</th>\n",
       "      <th>measurement_1</th>\n",
       "      <th>measurement_2</th>\n",
       "      <th>...</th>\n",
       "      <th>measurement_8</th>\n",
       "      <th>measurement_9</th>\n",
       "      <th>measurement_10</th>\n",
       "      <th>measurement_11</th>\n",
       "      <th>measurement_12</th>\n",
       "      <th>measurement_13</th>\n",
       "      <th>measurement_14</th>\n",
       "      <th>measurement_15</th>\n",
       "      <th>measurement_16</th>\n",
       "      <th>measurement_17</th>\n",
       "    </tr>\n",
       "  </thead>\n",
       "  <tbody>\n",
       "    <tr>\n",
       "      <th>0</th>\n",
       "      <td>26570</td>\n",
       "      <td>F</td>\n",
       "      <td>119.57</td>\n",
       "      <td>material_5</td>\n",
       "      <td>material_6</td>\n",
       "      <td>6</td>\n",
       "      <td>4</td>\n",
       "      <td>6</td>\n",
       "      <td>9</td>\n",
       "      <td>6</td>\n",
       "      <td>...</td>\n",
       "      <td>18.654</td>\n",
       "      <td>10.802</td>\n",
       "      <td>15.909</td>\n",
       "      <td>18.070</td>\n",
       "      <td>13.772</td>\n",
       "      <td>13.659</td>\n",
       "      <td>16.825</td>\n",
       "      <td>13.742</td>\n",
       "      <td>17.710</td>\n",
       "      <td>634.612</td>\n",
       "    </tr>\n",
       "    <tr>\n",
       "      <th>1</th>\n",
       "      <td>26571</td>\n",
       "      <td>F</td>\n",
       "      <td>113.51</td>\n",
       "      <td>material_5</td>\n",
       "      <td>material_6</td>\n",
       "      <td>6</td>\n",
       "      <td>4</td>\n",
       "      <td>11</td>\n",
       "      <td>8</td>\n",
       "      <td>0</td>\n",
       "      <td>...</td>\n",
       "      <td>19.368</td>\n",
       "      <td>12.032</td>\n",
       "      <td>13.998</td>\n",
       "      <td>NaN</td>\n",
       "      <td>12.473</td>\n",
       "      <td>17.468</td>\n",
       "      <td>16.708</td>\n",
       "      <td>14.776</td>\n",
       "      <td>14.102</td>\n",
       "      <td>537.037</td>\n",
       "    </tr>\n",
       "    <tr>\n",
       "      <th>2</th>\n",
       "      <td>26572</td>\n",
       "      <td>F</td>\n",
       "      <td>112.16</td>\n",
       "      <td>material_5</td>\n",
       "      <td>material_6</td>\n",
       "      <td>6</td>\n",
       "      <td>4</td>\n",
       "      <td>8</td>\n",
       "      <td>12</td>\n",
       "      <td>4</td>\n",
       "      <td>...</td>\n",
       "      <td>17.774</td>\n",
       "      <td>11.743</td>\n",
       "      <td>17.046</td>\n",
       "      <td>18.086</td>\n",
       "      <td>10.907</td>\n",
       "      <td>13.363</td>\n",
       "      <td>15.737</td>\n",
       "      <td>17.065</td>\n",
       "      <td>16.021</td>\n",
       "      <td>658.995</td>\n",
       "    </tr>\n",
       "    <tr>\n",
       "      <th>3</th>\n",
       "      <td>26573</td>\n",
       "      <td>F</td>\n",
       "      <td>112.72</td>\n",
       "      <td>material_5</td>\n",
       "      <td>material_6</td>\n",
       "      <td>6</td>\n",
       "      <td>4</td>\n",
       "      <td>8</td>\n",
       "      <td>11</td>\n",
       "      <td>10</td>\n",
       "      <td>...</td>\n",
       "      <td>18.948</td>\n",
       "      <td>11.790</td>\n",
       "      <td>18.165</td>\n",
       "      <td>16.163</td>\n",
       "      <td>10.933</td>\n",
       "      <td>15.501</td>\n",
       "      <td>15.667</td>\n",
       "      <td>12.620</td>\n",
       "      <td>16.111</td>\n",
       "      <td>594.301</td>\n",
       "    </tr>\n",
       "    <tr>\n",
       "      <th>4</th>\n",
       "      <td>26574</td>\n",
       "      <td>F</td>\n",
       "      <td>208.00</td>\n",
       "      <td>material_5</td>\n",
       "      <td>material_6</td>\n",
       "      <td>6</td>\n",
       "      <td>4</td>\n",
       "      <td>14</td>\n",
       "      <td>16</td>\n",
       "      <td>8</td>\n",
       "      <td>...</td>\n",
       "      <td>19.141</td>\n",
       "      <td>12.370</td>\n",
       "      <td>14.578</td>\n",
       "      <td>17.849</td>\n",
       "      <td>11.941</td>\n",
       "      <td>16.070</td>\n",
       "      <td>16.183</td>\n",
       "      <td>13.324</td>\n",
       "      <td>17.150</td>\n",
       "      <td>801.044</td>\n",
       "    </tr>\n",
       "  </tbody>\n",
       "</table>\n",
       "<p>5 rows × 25 columns</p>\n",
       "</div>"
      ],
      "text/plain": [
       "      id product_code  loading attribute_0 attribute_1  attribute_2  \\\n",
       "0  26570            F   119.57  material_5  material_6            6   \n",
       "1  26571            F   113.51  material_5  material_6            6   \n",
       "2  26572            F   112.16  material_5  material_6            6   \n",
       "3  26573            F   112.72  material_5  material_6            6   \n",
       "4  26574            F   208.00  material_5  material_6            6   \n",
       "\n",
       "   attribute_3  measurement_0  measurement_1  measurement_2  ...  \\\n",
       "0            4              6              9              6  ...   \n",
       "1            4             11              8              0  ...   \n",
       "2            4              8             12              4  ...   \n",
       "3            4              8             11             10  ...   \n",
       "4            4             14             16              8  ...   \n",
       "\n",
       "   measurement_8  measurement_9  measurement_10  measurement_11  \\\n",
       "0         18.654         10.802          15.909          18.070   \n",
       "1         19.368         12.032          13.998             NaN   \n",
       "2         17.774         11.743          17.046          18.086   \n",
       "3         18.948         11.790          18.165          16.163   \n",
       "4         19.141         12.370          14.578          17.849   \n",
       "\n",
       "   measurement_12  measurement_13  measurement_14  measurement_15  \\\n",
       "0          13.772          13.659          16.825          13.742   \n",
       "1          12.473          17.468          16.708          14.776   \n",
       "2          10.907          13.363          15.737          17.065   \n",
       "3          10.933          15.501          15.667          12.620   \n",
       "4          11.941          16.070          16.183          13.324   \n",
       "\n",
       "   measurement_16  measurement_17  \n",
       "0          17.710         634.612  \n",
       "1          14.102         537.037  \n",
       "2          16.021         658.995  \n",
       "3          16.111         594.301  \n",
       "4          17.150         801.044  \n",
       "\n",
       "[5 rows x 25 columns]"
      ]
     },
     "execution_count": 7,
     "metadata": {},
     "output_type": "execute_result"
    }
   ],
   "source": [
    "test_data.head()"
   ]
  },
  {
   "cell_type": "code",
   "execution_count": 8,
   "id": "963da1de-10ed-4bf0-bd8b-93dc0c78fab7",
   "metadata": {},
   "outputs": [
    {
     "data": {
      "text/html": [
       "<div>\n",
       "<style scoped>\n",
       "    .dataframe tbody tr th:only-of-type {\n",
       "        vertical-align: middle;\n",
       "    }\n",
       "\n",
       "    .dataframe tbody tr th {\n",
       "        vertical-align: top;\n",
       "    }\n",
       "\n",
       "    .dataframe thead th {\n",
       "        text-align: right;\n",
       "    }\n",
       "</style>\n",
       "<table border=\"1\" class=\"dataframe\">\n",
       "  <thead>\n",
       "    <tr style=\"text-align: right;\">\n",
       "      <th></th>\n",
       "      <th>id</th>\n",
       "      <th>failure</th>\n",
       "    </tr>\n",
       "  </thead>\n",
       "  <tbody>\n",
       "    <tr>\n",
       "      <th>0</th>\n",
       "      <td>26570</td>\n",
       "      <td>0.0</td>\n",
       "    </tr>\n",
       "    <tr>\n",
       "      <th>1</th>\n",
       "      <td>26571</td>\n",
       "      <td>0.0</td>\n",
       "    </tr>\n",
       "    <tr>\n",
       "      <th>2</th>\n",
       "      <td>26572</td>\n",
       "      <td>0.0</td>\n",
       "    </tr>\n",
       "    <tr>\n",
       "      <th>3</th>\n",
       "      <td>26573</td>\n",
       "      <td>0.0</td>\n",
       "    </tr>\n",
       "    <tr>\n",
       "      <th>4</th>\n",
       "      <td>26574</td>\n",
       "      <td>0.0</td>\n",
       "    </tr>\n",
       "  </tbody>\n",
       "</table>\n",
       "</div>"
      ],
      "text/plain": [
       "      id  failure\n",
       "0  26570      0.0\n",
       "1  26571      0.0\n",
       "2  26572      0.0\n",
       "3  26573      0.0\n",
       "4  26574      0.0"
      ]
     },
     "execution_count": 8,
     "metadata": {},
     "output_type": "execute_result"
    }
   ],
   "source": [
    "sample.head()"
   ]
  },
  {
   "cell_type": "code",
   "execution_count": 9,
   "id": "c9713b7e-ab43-4989-9e59-67c6732e3996",
   "metadata": {},
   "outputs": [
    {
     "data": {
      "text/html": [
       "<div>\n",
       "<style scoped>\n",
       "    .dataframe tbody tr th:only-of-type {\n",
       "        vertical-align: middle;\n",
       "    }\n",
       "\n",
       "    .dataframe tbody tr th {\n",
       "        vertical-align: top;\n",
       "    }\n",
       "\n",
       "    .dataframe thead th {\n",
       "        text-align: right;\n",
       "    }\n",
       "</style>\n",
       "<table border=\"1\" class=\"dataframe\">\n",
       "  <thead>\n",
       "    <tr style=\"text-align: right;\">\n",
       "      <th></th>\n",
       "      <th>Total</th>\n",
       "      <th>Percent</th>\n",
       "    </tr>\n",
       "  </thead>\n",
       "  <tbody>\n",
       "    <tr>\n",
       "      <th>measurement_17</th>\n",
       "      <td>2284</td>\n",
       "      <td>8.596161</td>\n",
       "    </tr>\n",
       "    <tr>\n",
       "      <th>measurement_16</th>\n",
       "      <td>2110</td>\n",
       "      <td>7.941287</td>\n",
       "    </tr>\n",
       "    <tr>\n",
       "      <th>measurement_15</th>\n",
       "      <td>2009</td>\n",
       "      <td>7.561159</td>\n",
       "    </tr>\n",
       "    <tr>\n",
       "      <th>measurement_14</th>\n",
       "      <td>1874</td>\n",
       "      <td>7.053067</td>\n",
       "    </tr>\n",
       "    <tr>\n",
       "      <th>measurement_13</th>\n",
       "      <td>1774</td>\n",
       "      <td>6.676703</td>\n",
       "    </tr>\n",
       "    <tr>\n",
       "      <th>measurement_12</th>\n",
       "      <td>1601</td>\n",
       "      <td>6.025593</td>\n",
       "    </tr>\n",
       "    <tr>\n",
       "      <th>measurement_11</th>\n",
       "      <td>1468</td>\n",
       "      <td>5.525028</td>\n",
       "    </tr>\n",
       "    <tr>\n",
       "      <th>measurement_10</th>\n",
       "      <td>1300</td>\n",
       "      <td>4.892736</td>\n",
       "    </tr>\n",
       "    <tr>\n",
       "      <th>measurement_9</th>\n",
       "      <td>1227</td>\n",
       "      <td>4.617990</td>\n",
       "    </tr>\n",
       "    <tr>\n",
       "      <th>measurement_8</th>\n",
       "      <td>1048</td>\n",
       "      <td>3.944298</td>\n",
       "    </tr>\n",
       "    <tr>\n",
       "      <th>measurement_7</th>\n",
       "      <td>937</td>\n",
       "      <td>3.526534</td>\n",
       "    </tr>\n",
       "    <tr>\n",
       "      <th>measurement_6</th>\n",
       "      <td>796</td>\n",
       "      <td>2.995860</td>\n",
       "    </tr>\n",
       "    <tr>\n",
       "      <th>measurement_5</th>\n",
       "      <td>676</td>\n",
       "      <td>2.544223</td>\n",
       "    </tr>\n",
       "    <tr>\n",
       "      <th>measurement_4</th>\n",
       "      <td>538</td>\n",
       "      <td>2.024840</td>\n",
       "    </tr>\n",
       "    <tr>\n",
       "      <th>measurement_3</th>\n",
       "      <td>381</td>\n",
       "      <td>1.433948</td>\n",
       "    </tr>\n",
       "    <tr>\n",
       "      <th>loading</th>\n",
       "      <td>250</td>\n",
       "      <td>0.940911</td>\n",
       "    </tr>\n",
       "    <tr>\n",
       "      <th>id</th>\n",
       "      <td>0</td>\n",
       "      <td>0.000000</td>\n",
       "    </tr>\n",
       "    <tr>\n",
       "      <th>product_code</th>\n",
       "      <td>0</td>\n",
       "      <td>0.000000</td>\n",
       "    </tr>\n",
       "    <tr>\n",
       "      <th>measurement_2</th>\n",
       "      <td>0</td>\n",
       "      <td>0.000000</td>\n",
       "    </tr>\n",
       "    <tr>\n",
       "      <th>measurement_1</th>\n",
       "      <td>0</td>\n",
       "      <td>0.000000</td>\n",
       "    </tr>\n",
       "    <tr>\n",
       "      <th>measurement_0</th>\n",
       "      <td>0</td>\n",
       "      <td>0.000000</td>\n",
       "    </tr>\n",
       "    <tr>\n",
       "      <th>attribute_3</th>\n",
       "      <td>0</td>\n",
       "      <td>0.000000</td>\n",
       "    </tr>\n",
       "    <tr>\n",
       "      <th>attribute_2</th>\n",
       "      <td>0</td>\n",
       "      <td>0.000000</td>\n",
       "    </tr>\n",
       "    <tr>\n",
       "      <th>attribute_1</th>\n",
       "      <td>0</td>\n",
       "      <td>0.000000</td>\n",
       "    </tr>\n",
       "    <tr>\n",
       "      <th>attribute_0</th>\n",
       "      <td>0</td>\n",
       "      <td>0.000000</td>\n",
       "    </tr>\n",
       "    <tr>\n",
       "      <th>failure</th>\n",
       "      <td>0</td>\n",
       "      <td>0.000000</td>\n",
       "    </tr>\n",
       "  </tbody>\n",
       "</table>\n",
       "</div>"
      ],
      "text/plain": [
       "                Total   Percent\n",
       "measurement_17   2284  8.596161\n",
       "measurement_16   2110  7.941287\n",
       "measurement_15   2009  7.561159\n",
       "measurement_14   1874  7.053067\n",
       "measurement_13   1774  6.676703\n",
       "measurement_12   1601  6.025593\n",
       "measurement_11   1468  5.525028\n",
       "measurement_10   1300  4.892736\n",
       "measurement_9    1227  4.617990\n",
       "measurement_8    1048  3.944298\n",
       "measurement_7     937  3.526534\n",
       "measurement_6     796  2.995860\n",
       "measurement_5     676  2.544223\n",
       "measurement_4     538  2.024840\n",
       "measurement_3     381  1.433948\n",
       "loading           250  0.940911\n",
       "id                  0  0.000000\n",
       "product_code        0  0.000000\n",
       "measurement_2       0  0.000000\n",
       "measurement_1       0  0.000000\n",
       "measurement_0       0  0.000000\n",
       "attribute_3         0  0.000000\n",
       "attribute_2         0  0.000000\n",
       "attribute_1         0  0.000000\n",
       "attribute_0         0  0.000000\n",
       "failure             0  0.000000"
      ]
     },
     "execution_count": 9,
     "metadata": {},
     "output_type": "execute_result"
    }
   ],
   "source": [
    "# checking missing data\n",
    "total = train_data.isnull().sum().sort_values(ascending = False)\n",
    "percent = (train_data.isnull().sum()/train_data.isnull().count()*100).sort_values(ascending = False)\n",
    "missing_train_data  = pd.concat([total, percent], axis=1, keys=['Total', 'Percent'])\n",
    "missing_train_data"
   ]
  },
  {
   "cell_type": "code",
   "execution_count": 10,
   "id": "29a070f2-c4fe-4538-baf7-358c4543f766",
   "metadata": {},
   "outputs": [
    {
     "data": {
      "text/plain": [
       "<AxesSubplot:xlabel='failure', ylabel='count'>"
      ]
     },
     "execution_count": 10,
     "metadata": {},
     "output_type": "execute_result"
    },
    {
     "data": {
      "image/png": "[encoded data removed]",
      "text/plain": [
       "<Figure size 432x288 with 1 Axes>"
      ]
     },
     "metadata": {
      "needs_background": "light"
     },
     "output_type": "display_data"
    }
   ],
   "source": [
    "# checking target variable percentage\n",
    "sns.countplot(x=\"failure\", data=train_data)\n",
    "#sns.countplot(x=\"failure\", data=test_data)\n",
    "#sns.countplot(x=\"failure\", data=sample)\n",
    "\n",
    "# this is a class imbalance problem"
   ]
  },
  {
   "cell_type": "markdown",
   "id": "bdca3287-957f-45ce-bc82-ad734e002661",
   "metadata": {},
   "source": [
    "## Distributional drift and comparisons"
   ]
  },
  {
   "cell_type": "code",
   "execution_count": 11,
   "id": "bcfbd3e9-71c9-4d41-b4f5-fe2b4d3b4c30",
   "metadata": {},
   "outputs": [
    {
     "data": {
      "text/plain": [
       "Index(['id', 'product_code', 'loading', 'attribute_0', 'attribute_1',\n",
       "       'attribute_2', 'attribute_3', 'measurement_0', 'measurement_1',\n",
       "       'measurement_2', 'measurement_3', 'measurement_4', 'measurement_5',\n",
       "       'measurement_6', 'measurement_7', 'measurement_8', 'measurement_9',\n",
       "       'measurement_10', 'measurement_11', 'measurement_12', 'measurement_13',\n",
       "       'measurement_14', 'measurement_15', 'measurement_16', 'measurement_17',\n",
       "       'failure'],\n",
       "      dtype='object')"
      ]
     },
     "execution_count": 11,
     "metadata": {},
     "output_type": "execute_result"
    }
   ],
   "source": [
    "train_data.columns"
   ]
  },
  {
   "cell_type": "markdown",
   "id": "f2bd33fc-6373-4036-86cb-955f3350ac5f",
   "metadata": {},
   "source": [
    "each of the products could have very different behaviours and be from different populations. And so it may make sense to look at each on of these individually"
   ]
  },
  {
   "cell_type": "markdown",
   "id": "0ec37804-858b-4d55-9808-4c410e5c4144",
   "metadata": {
    "tags": []
   },
   "source": [
    "## Static Profiling"
   ]
  },
  {
   "cell_type": "code",
   "execution_count": 12,
   "id": "cd0364fd-3e82-4454-b836-132f61078c16",
   "metadata": {},
   "outputs": [],
   "source": [
    "# sample data if required if reports too big\n",
    "train_sample = train_data.sample(10000)\n",
    "\n",
    "# drop id column\n",
    "train_sample.drop('id',axis = 1, inplace=True)\n",
    "\n",
    "# drop index or else that will also be profiled\n",
    "train_sample.reset_index(drop=True, inplace=True)"
   ]
  },
  {
   "cell_type": "code",
   "execution_count": 13,
   "id": "13289cc9-7726-4b1b-b7ca-42a44c7367a9",
   "metadata": {},
   "outputs": [
    {
     "data": {
      "application/vnd.jupyter.widget-view+json": {
       "model_id": "93920ddcab1a47f2b917d8b2ec60f5ee",
       "version_major": 2,
       "version_minor": 0
      },
      "text/plain": [
       "Summarize dataset:   0%|          | 0/5 [00:00<?, ?it/s]"
      ]
     },
     "metadata": {},
     "output_type": "display_data"
    },
    {
     "data": {
      "application/vnd.jupyter.widget-view+json": {
       "model_id": "ae71f13a92c1452eaf554650d28601fc",
       "version_major": 2,
       "version_minor": 0
      },
      "text/plain": [
       "Generate report structure:   0%|          | 0/1 [00:00<?, ?it/s]"
      ]
     },
     "metadata": {},
     "output_type": "display_data"
    },
    {
     "data": {
      "application/vnd.jupyter.widget-view+json": {
       "model_id": "a14145b8ca1b43f8a2621f82db291e5c",
       "version_major": 2,
       "version_minor": 0
      },
      "text/plain": [
       "Render HTML:   0%|          | 0/1 [00:00<?, ?it/s]"
      ]
     },
     "metadata": {},
     "output_type": "display_data"
    },
    {
     "data": {
      "application/vnd.jupyter.widget-view+json": {
       "model_id": "dcda87a7363f43cbbbe4c94f8020ee86",
       "version_major": 2,
       "version_minor": 0
      },
      "text/plain": [
       "Export report to file:   0%|          | 0/1 [00:00<?, ?it/s]"
      ]
     },
     "metadata": {},
     "output_type": "display_data"
    }
   ],
   "source": [
    "# create minimal report in reports\n",
    "minimal_report = train_data.profile_report(title=\"Minimal Report\",minimal=True)\n",
    "minimal_report.to_file(\"../reports/pp_eda_minimal.html\")\n",
    "#minimal_report.to_notebook_iframe()"
   ]
  },
  {
   "cell_type": "code",
   "execution_count": 14,
   "id": "e79a7647-1c18-4d60-b203-d3b1822bbebf",
   "metadata": {},
   "outputs": [
    {
     "data": {
      "application/vnd.jupyter.widget-view+json": {
       "model_id": "b0af51b11e324702b822d1e88961096a",
       "version_major": 2,
       "version_minor": 0
      },
      "text/plain": [
       "Summarize dataset:   0%|          | 0/5 [00:00<?, ?it/s]"
      ]
     },
     "metadata": {},
     "output_type": "display_data"
    },
    {
     "data": {
      "application/vnd.jupyter.widget-view+json": {
       "model_id": "0cce1f22a0d74407a50651ac50a8cc74",
       "version_major": 2,
       "version_minor": 0
      },
      "text/plain": [
       "Generate report structure:   0%|          | 0/1 [00:00<?, ?it/s]"
      ]
     },
     "metadata": {},
     "output_type": "display_data"
    },
    {
     "data": {
      "application/vnd.jupyter.widget-view+json": {
       "model_id": "5c3d091b7884480da95ff621687164bb",
       "version_major": 2,
       "version_minor": 0
      },
      "text/plain": [
       "Render HTML:   0%|          | 0/1 [00:00<?, ?it/s]"
      ]
     },
     "metadata": {},
     "output_type": "display_data"
    },
    {
     "data": {
      "application/vnd.jupyter.widget-view+json": {
       "model_id": "c09ce175110a44679c0093362b01f0a7",
       "version_major": 2,
       "version_minor": 0
      },
      "text/plain": [
       "Export report to file:   0%|          | 0/1 [00:00<?, ?it/s]"
      ]
     },
     "metadata": {},
     "output_type": "display_data"
    }
   ],
   "source": [
    "# set of parameters to create customer report\n",
    "train_data.profile_report(\n",
    "    title=\"Custom Report\",\n",
    "    # create missing/null value diagrams\n",
    "    # disable if no missing values\n",
    "    missing_diagrams={\n",
    "        \"heatmap\": True,\n",
    "        \"dendrogram\": True,\n",
    "        \"bar\": True,\n",
    "        \"matrix\":True\n",
    "    # create all correlation plots\n",
    "    # the correlations and interactions come together\n",
    "    # the correlations section dictates which corrs will be run\n",
    "    # the interactions dicatates which variables\n",
    "    },correlations={\n",
    "        # strength and directional\n",
    "        # continuous vars, linear, sensitive to outliers, normal dist\n",
    "        \"pearson\": {\"calculate\": True},\n",
    "        # strength and directional\n",
    "        # categorical or quant, linear, no outliers\n",
    "        \"spearman\": {\"calculate\": False},\n",
    "        # 0-1\n",
    "        # dependence of 2 vars.\n",
    "        \"kendall\": {\"calculate\": True},\n",
    "        # no direction, categorical, ordinal, interval\n",
    "        # non-linear dependency\n",
    "        # computationally expensive\n",
    "        \"phi_k\": {\"calculate\": True}, # this one is one of the most intensive ones\n",
    "        # compares 2 categorical vars\n",
    "        # based on chi-squared test stat\n",
    "        # sensitive to outlies\n",
    "        \"cramers\": {\"calculate\": True}\n",
    "    },interactions = {\n",
    "        # this generates 2d scatter, this will cause crash if too many variables\n",
    "        \"continuous\": False\n",
    "        # comment continouous out and put in \n",
    "        # target var to see scatter between\n",
    "        # only these values and all other\n",
    "        # values\n",
    "        #\"targets\": ['target']\n",
    "    },html = {\n",
    "        \"style\": {\"theme\":\"flatly\"}\n",
    "    }\n",
    "    \n",
    "    \n",
    ").to_file(\"../reports/pp_eda_custom.html\")"
   ]
  },
  {
   "cell_type": "markdown",
   "id": "4566be91-7eeb-4e09-ae0f-840aeacdeff7",
   "metadata": {},
   "source": [
    "## Data Cleaning\n",
    "\n",
    "Creation of data cleaning function to;\n",
    "- Impute NULL Values\n",
    "- Parse Multi-part string columns\n",
    "- Drop columns\n",
    "- Encode categorical variables\n",
    "- Normalise or scale columns"
   ]
  },
  {
   "cell_type": "code",
   "execution_count": 15,
   "id": "f19d62ae-26d3-4401-a3be-b72d8097a99a",
   "metadata": {},
   "outputs": [
    {
     "name": "stdout",
     "output_type": "stream",
     "text": [
      "missing values present: 0\n",
      "categorical columns present: 0\n"
     ]
    }
   ],
   "source": [
    "def Preprocessing(df):\n",
    "    \n",
    "    df = pd.get_dummies(df) # convert all categorical variables to dummy variables\n",
    "    \n",
    "    df = df.dropna(\n",
    "        # axis = 1 # default both axes, comment out for only 1 axis\n",
    "    ) # remvoe all na rows or columns\n",
    "    \n",
    "    return df\n",
    "\n",
    "train_data_cleaned = Preprocessing(train_data)\n",
    "\n",
    "print(\"missing values present:\",train_data_cleaned.isna().sum().sum())\n",
    "print(\"categorical columns present:\",train_data_cleaned.dtypes[train_data_cleaned.dtypes == \"object\"].count())\n",
    "\n"
   ]
  },
  {
   "cell_type": "markdown",
   "id": "f6fc92bf-099e-4fcf-8c92-82512ff2c6df",
   "metadata": {},
   "source": [
    "## Model fitting\n",
    "\n",
    "### Train Test Split\n",
    "\n",
    "Splitting data into groupings for model fitting"
   ]
  },
  {
   "cell_type": "code",
   "execution_count": 16,
   "id": "70b6b3d1-07f5-4e68-9a04-5939636048b0",
   "metadata": {},
   "outputs": [
    {
     "name": "stdout",
     "output_type": "stream",
     "text": [
      "Shape of X_train data:    \t (9746, 31)\n",
      "Shape of X_test data:    \t (2437, 31)\n",
      "Shape of y_train data:    \t (9746,)\n",
      "Shape of y_test data:    \t (2437,)\n"
     ]
    }
   ],
   "source": [
    "X_train, X_test, y_train, y_test = train_test_split(\n",
    "    train_data_cleaned.drop(['id','failure'], axis = 1), # X data excluding target variable and any irrelevant id columns\n",
    "    train_data_cleaned.loc[:,'failure'],\n",
    "    test_size = 0.2, # 0.2 is a good accepted starting point, with larger data this number can be decreased\n",
    "    random_state = 42, # random seed, default 42\n",
    "    shuffle = True # default true, check whether there is population drift over time in default order\n",
    ")\n",
    "\n",
    "print(\"Shape of X_train data:    \\t\",X_train.shape)\n",
    "print(\"Shape of X_test data:    \\t\",X_test.shape)\n",
    "print(\"Shape of y_train data:    \\t\",y_train.shape)\n",
    "print(\"Shape of y_test data:    \\t\",y_test.shape)"
   ]
  },
  {
   "cell_type": "markdown",
   "id": "ace5b3f6-9e24-4811-8cb4-cca251702b29",
   "metadata": {},
   "source": [
    "### Linear Regression"
   ]
  },
  {
   "cell_type": "code",
   "execution_count": 17,
   "id": "9805d043-32ce-4d44-888d-93208a41893f",
   "metadata": {},
   "outputs": [],
   "source": [
    "from sklearn.linear_model import LinearRegression\n",
    "# help(LinearRegression)"
   ]
  },
  {
   "cell_type": "code",
   "execution_count": 18,
   "id": "f91b6f0f-56a1-4e4c-87a8-b87c006d59a5",
   "metadata": {},
   "outputs": [],
   "source": [
    "# initialise new linear regression object model\n",
    "model = LinearRegression()"
   ]
  },
  {
   "cell_type": "code",
   "execution_count": 19,
   "id": "1cad8136-9947-4d5d-83ca-0ad7c3f4bdc5",
   "metadata": {},
   "outputs": [
    {
     "data": {
      "text/html": [
       "<style>#sk-container-id-1 {color: black;background-color: white;}#sk-container-id-1 pre{padding: 0;}#sk-container-id-1 div.sk-toggleable {background-color: white;}#sk-container-id-1 label.sk-toggleable__label {cursor: pointer;display: block;width: 100%;margin-bottom: 0;padding: 0.3em;box-sizing: border-box;text-align: center;}#sk-container-id-1 label.sk-toggleable__label-arrow:before {content: \"▸\";float: left;margin-right: 0.25em;color: #696969;}#sk-container-id-1 label.sk-toggleable__label-arrow:hover:before {color: black;}#sk-container-id-1 div.sk-estimator:hover label.sk-toggleable__label-arrow:before {color: black;}#sk-container-id-1 div.sk-toggleable__content {max-height: 0;max-width: 0;overflow: hidden;text-align: left;background-color: #f0f8ff;}#sk-container-id-1 div.sk-toggleable__content pre {margin: 0.2em;color: black;border-radius: 0.25em;background-color: #f0f8ff;}#sk-container-id-1 input.sk-toggleable__control:checked~div.sk-toggleable__content {max-height: 200px;max-width: 100%;overflow: auto;}#sk-container-id-1 input.sk-toggleable__control:checked~label.sk-toggleable__label-arrow:before {content: \"▾\";}#sk-container-id-1 div.sk-estimator input.sk-toggleable__control:checked~label.sk-toggleable__label {background-color: #d4ebff;}#sk-container-id-1 div.sk-label input.sk-toggleable__control:checked~label.sk-toggleable__label {background-color: #d4ebff;}#sk-container-id-1 input.sk-hidden--visually {border: 0;clip: rect(1px 1px 1px 1px);clip: rect(1px, 1px, 1px, 1px);height: 1px;margin: -1px;overflow: hidden;padding: 0;position: absolute;width: 1px;}#sk-container-id-1 div.sk-estimator {font-family: monospace;background-color: #f0f8ff;border: 1px dotted black;border-radius: 0.25em;box-sizing: border-box;margin-bottom: 0.5em;}#sk-container-id-1 div.sk-estimator:hover {background-color: #d4ebff;}#sk-container-id-1 div.sk-parallel-item::after {content: \"\";width: 100%;border-bottom: 1px solid gray;flex-grow: 1;}#sk-container-id-1 div.sk-label:hover label.sk-toggleable__label {background-color: #d4ebff;}#sk-container-id-1 div.sk-serial::before {content: \"\";position: absolute;border-left: 1px solid gray;box-sizing: border-box;top: 0;bottom: 0;left: 50%;z-index: 0;}#sk-container-id-1 div.sk-serial {display: flex;flex-direction: column;align-items: center;background-color: white;padding-right: 0.2em;padding-left: 0.2em;position: relative;}#sk-container-id-1 div.sk-item {position: relative;z-index: 1;}#sk-container-id-1 div.sk-parallel {display: flex;align-items: stretch;justify-content: center;background-color: white;position: relative;}#sk-container-id-1 div.sk-item::before, #sk-container-id-1 div.sk-parallel-item::before {content: \"\";position: absolute;border-left: 1px solid gray;box-sizing: border-box;top: 0;bottom: 0;left: 50%;z-index: -1;}#sk-container-id-1 div.sk-parallel-item {display: flex;flex-direction: column;z-index: 1;position: relative;background-color: white;}#sk-container-id-1 div.sk-parallel-item:first-child::after {align-self: flex-end;width: 50%;}#sk-container-id-1 div.sk-parallel-item:last-child::after {align-self: flex-start;width: 50%;}#sk-container-id-1 div.sk-parallel-item:only-child::after {width: 0;}#sk-container-id-1 div.sk-dashed-wrapped {border: 1px dashed gray;margin: 0 0.4em 0.5em 0.4em;box-sizing: border-box;padding-bottom: 0.4em;background-color: white;}#sk-container-id-1 div.sk-label label {font-family: monospace;font-weight: bold;display: inline-block;line-height: 1.2em;}#sk-container-id-1 div.sk-label-container {text-align: center;}#sk-container-id-1 div.sk-container {/* jupyter's `normalize.less` sets `[hidden] { display: none; }` but bootstrap.min.css set `[hidden] { display: none !important; }` so we also need the `!important` here to be able to override the default hidden behavior on the sphinx rendered scikit-learn.org. See: https://github.com/scikit-learn/scikit-learn/issues/21755 */display: inline-block !important;position: relative;}#sk-container-id-1 div.sk-text-repr-fallback {display: none;}</style><div id=\"sk-container-id-1\" class=\"sk-top-container\"><div class=\"sk-text-repr-fallback\"><pre>LinearRegression()</pre><b>In a Jupyter environment, please rerun this cell to show the HTML representation or trust the notebook. <br />On GitHub, the HTML representation is unable to render, please try loading this page with nbviewer.org.</b></div><div class=\"sk-container\" hidden><div class=\"sk-item\"><div class=\"sk-estimator sk-toggleable\"><input class=\"sk-toggleable__control sk-hidden--visually\" id=\"sk-estimator-id-1\" type=\"checkbox\" checked><label for=\"sk-estimator-id-1\" class=\"sk-toggleable__label sk-toggleable__label-arrow\">LinearRegression</label><div class=\"sk-toggleable__content\"><pre>LinearRegression()</pre></div></div></div></div></div>"
      ],
      "text/plain": [
       "LinearRegression()"
      ]
     },
     "execution_count": 19,
     "metadata": {},
     "output_type": "execute_result"
    }
   ],
   "source": [
    "# Fir regression model\n",
    "model.fit(X_train, y_train)"
   ]
  },
  {
   "cell_type": "code",
   "execution_count": 20,
   "id": "c2107a6e-0240-43aa-8104-c5936501135f",
   "metadata": {},
   "outputs": [],
   "source": [
    "# predict values on test set\n",
    "test_preds = model.predict(X_test)"
   ]
  },
  {
   "cell_type": "code",
   "execution_count": 21,
   "id": "155d6326-be29-48cf-b56a-5920b1590974",
   "metadata": {},
   "outputs": [
    {
     "data": {
      "text/plain": [
       "<matplotlib.lines.Line2D at 0x7f530f9fe200>"
      ]
     },
     "execution_count": 21,
     "metadata": {},
     "output_type": "execute_result"
    },
    {
     "data": {
      "image/png": "[encoded data removed]",
      "text/plain": [
       "<Figure size 432x288 with 1 Axes>"
      ]
     },
     "metadata": {
      "needs_background": "light"
     },
     "output_type": "display_data"
    }
   ],
   "source": [
    "test_residuals = y_test - test_preds\n",
    "\n",
    "# ideally this is normal\n",
    "sns.scatterplot(x=y_test,y=test_residuals)\n",
    "plt.axhline(y=0,color='r',ls='--')"
   ]
  },
  {
   "cell_type": "code",
   "execution_count": 22,
   "id": "4bbf8623-5faf-4b24-83b5-4bf79877bdf4",
   "metadata": {},
   "outputs": [
    {
     "data": {
      "text/plain": [
       "array([ 0.0010951 ,  0.00135182, -0.00094478,  0.00080672,  0.00115066,\n",
       "        0.00108707,  0.00570536, -0.00912948, -0.00144347,  0.00697265,\n",
       "        0.00152192, -0.00556853,  0.00263128,  0.00041579, -0.00083507,\n",
       "        0.00143589,  0.00104817,  0.00305593,  0.0035776 ,  0.00203618,\n",
       "        0.00011432,  0.00322123, -0.00568774, -0.00306362, -0.00106293,\n",
       "        0.00659306, -0.00568774,  0.00568774, -0.00675067,  0.00659306,\n",
       "        0.00015762])"
      ]
     },
     "execution_count": 22,
     "metadata": {},
     "output_type": "execute_result"
    }
   ],
   "source": [
    "# these coeffients will be in different units\n",
    "model.coef_"
   ]
  },
  {
   "cell_type": "code",
   "execution_count": 23,
   "id": "351a04cb-b7e3-444e-8eb7-0d2fb1e2be3d",
   "metadata": {},
   "outputs": [
    {
     "data": {
      "text/plain": [
       "['../models/linear_regression_model.joblib']"
      ]
     },
     "execution_count": 23,
     "metadata": {},
     "output_type": "execute_result"
    }
   ],
   "source": [
    "from joblib import dump, load\n",
    "dump(model,'../models/linear_regression_model.joblib')"
   ]
  }
 ],
 "metadata": {
  "kernelspec": {
   "display_name": "Python 3 (ipykernel)",
   "language": "python",
   "name": "python3"
  },
  "language_info": {
   "codemirror_mode": {
    "name": "ipython",
    "version": 3
   },
   "file_extension": ".py",
   "mimetype": "text/x-python",
   "name": "python",
   "nbconvert_exporter": "python",
   "pygments_lexer": "ipython3",
   "version": "3.10.4"
  }
 },
 "nbformat": 4,
 "nbformat_minor": 5
}
